{
 "cells": [
  {
   "cell_type": "code",
   "execution_count": 1,
   "metadata": {},
   "outputs": [],
   "source": [
    "import pandas as pd\n",
    "import numpy as np\n",
    "import matplotlib.pyplot as plt\n",
    "import seaborn as sns\n",
    "import sys\n",
    "import os\n",
    "sys.path.append(os.path.abspath('../scripts'))\n",
    "from utils import non_missing_values_table as nmv\n",
    "from utils import * \n",
    "from sklearn.preprocessing import Normalizer, StandardScaler\n",
    "from sklearn.cluster import KMeans\n",
    "from sklearn.linear_model import LinearRegression\n",
    "from sklearn.model_selection import train_test_split\n",
    "from sklearn.metrics.pairwise import euclidean_distances"
   ]
  },
  {
   "cell_type": "code",
   "execution_count": 5,
   "metadata": {},
   "outputs": [],
   "source": [
    "\n",
    "engagement_df = pd.read_csv('../data/engagement_metrics.csv')\n",
    "experience_df = pd.read_csv('../data/experiance_metrics.csv')\n",
    "pd.set_option('display.max_columns', None)"
   ]
  },
  {
   "cell_type": "code",
   "execution_count": 6,
   "metadata": {},
   "outputs": [
    {
     "data": {
      "text/html": [
       "<div>\n",
       "<style scoped>\n",
       "    .dataframe tbody tr th:only-of-type {\n",
       "        vertical-align: middle;\n",
       "    }\n",
       "\n",
       "    .dataframe tbody tr th {\n",
       "        vertical-align: top;\n",
       "    }\n",
       "\n",
       "    .dataframe thead th {\n",
       "        text-align: right;\n",
       "    }\n",
       "</style>\n",
       "<table border=\"1\" class=\"dataframe\">\n",
       "  <thead>\n",
       "    <tr style=\"text-align: right;\">\n",
       "      <th></th>\n",
       "      <th>MSISDN/Number</th>\n",
       "      <th>sessions_frequency</th>\n",
       "      <th>total_duration</th>\n",
       "      <th>total_ul_traffic</th>\n",
       "      <th>total_dl_traffic</th>\n",
       "      <th>total_traffic</th>\n",
       "      <th>cluster</th>\n",
       "    </tr>\n",
       "  </thead>\n",
       "  <tbody>\n",
       "    <tr>\n",
       "      <th>0</th>\n",
       "      <td>3.360100e+10</td>\n",
       "      <td>1</td>\n",
       "      <td>116720.0</td>\n",
       "      <td>36053108.0</td>\n",
       "      <td>8.426375e+08</td>\n",
       "      <td>8.786906e+08</td>\n",
       "      <td>1</td>\n",
       "    </tr>\n",
       "    <tr>\n",
       "      <th>1</th>\n",
       "      <td>3.360100e+10</td>\n",
       "      <td>1</td>\n",
       "      <td>181230.0</td>\n",
       "      <td>36104459.0</td>\n",
       "      <td>1.207552e+08</td>\n",
       "      <td>1.568596e+08</td>\n",
       "      <td>1</td>\n",
       "    </tr>\n",
       "    <tr>\n",
       "      <th>2</th>\n",
       "      <td>3.360100e+10</td>\n",
       "      <td>1</td>\n",
       "      <td>134969.0</td>\n",
       "      <td>39306820.0</td>\n",
       "      <td>5.566597e+08</td>\n",
       "      <td>5.959665e+08</td>\n",
       "      <td>1</td>\n",
       "    </tr>\n",
       "    <tr>\n",
       "      <th>3</th>\n",
       "      <td>3.360101e+10</td>\n",
       "      <td>1</td>\n",
       "      <td>49878.0</td>\n",
       "      <td>20327526.0</td>\n",
       "      <td>4.019932e+08</td>\n",
       "      <td>4.223207e+08</td>\n",
       "      <td>1</td>\n",
       "    </tr>\n",
       "    <tr>\n",
       "      <th>4</th>\n",
       "      <td>3.360101e+10</td>\n",
       "      <td>2</td>\n",
       "      <td>37104.0</td>\n",
       "      <td>94280527.0</td>\n",
       "      <td>1.363130e+09</td>\n",
       "      <td>1.457411e+09</td>\n",
       "      <td>2</td>\n",
       "    </tr>\n",
       "  </tbody>\n",
       "</table>\n",
       "</div>"
      ],
      "text/plain": [
       "   MSISDN/Number  sessions_frequency  total_duration  total_ul_traffic  \\\n",
       "0   3.360100e+10                   1        116720.0        36053108.0   \n",
       "1   3.360100e+10                   1        181230.0        36104459.0   \n",
       "2   3.360100e+10                   1        134969.0        39306820.0   \n",
       "3   3.360101e+10                   1         49878.0        20327526.0   \n",
       "4   3.360101e+10                   2         37104.0        94280527.0   \n",
       "\n",
       "   total_dl_traffic  total_traffic  cluster  \n",
       "0      8.426375e+08   8.786906e+08        1  \n",
       "1      1.207552e+08   1.568596e+08        1  \n",
       "2      5.566597e+08   5.959665e+08        1  \n",
       "3      4.019932e+08   4.223207e+08        1  \n",
       "4      1.363130e+09   1.457411e+09        2  "
      ]
     },
     "execution_count": 6,
     "metadata": {},
     "output_type": "execute_result"
    }
   ],
   "source": [
    "engagement_df.head()"
   ]
  },
  {
   "cell_type": "code",
   "execution_count": 7,
   "metadata": {},
   "outputs": [
    {
     "data": {
      "text/html": [
       "<div>\n",
       "<style scoped>\n",
       "    .dataframe tbody tr th:only-of-type {\n",
       "        vertical-align: middle;\n",
       "    }\n",
       "\n",
       "    .dataframe tbody tr th {\n",
       "        vertical-align: top;\n",
       "    }\n",
       "\n",
       "    .dataframe thead th {\n",
       "        text-align: right;\n",
       "    }\n",
       "</style>\n",
       "<table border=\"1\" class=\"dataframe\">\n",
       "  <thead>\n",
       "    <tr style=\"text-align: right;\">\n",
       "      <th></th>\n",
       "      <th>MSISDN/Number</th>\n",
       "      <th>avg_tcp_retransmission_bytes</th>\n",
       "      <th>avg_rtt_ms</th>\n",
       "      <th>handset_type</th>\n",
       "      <th>avg_throughput_kbps</th>\n",
       "      <th>cluster</th>\n",
       "    </tr>\n",
       "  </thead>\n",
       "  <tbody>\n",
       "    <tr>\n",
       "      <th>0</th>\n",
       "      <td>3.360100e+10</td>\n",
       "      <td>2.100477e+07</td>\n",
       "      <td>46.0</td>\n",
       "      <td>Huawei P20 Lite Huawei Nova 3E</td>\n",
       "      <td>37.0</td>\n",
       "      <td>0</td>\n",
       "    </tr>\n",
       "    <tr>\n",
       "      <th>1</th>\n",
       "      <td>3.360100e+10</td>\n",
       "      <td>2.100477e+07</td>\n",
       "      <td>30.0</td>\n",
       "      <td>Apple iPhone 7 (A1778)</td>\n",
       "      <td>48.0</td>\n",
       "      <td>0</td>\n",
       "    </tr>\n",
       "    <tr>\n",
       "      <th>2</th>\n",
       "      <td>3.360100e+10</td>\n",
       "      <td>2.100477e+07</td>\n",
       "      <td>45.0</td>\n",
       "      <td>undefined</td>\n",
       "      <td>48.0</td>\n",
       "      <td>0</td>\n",
       "    </tr>\n",
       "    <tr>\n",
       "      <th>3</th>\n",
       "      <td>3.360101e+10</td>\n",
       "      <td>1.066000e+03</td>\n",
       "      <td>69.0</td>\n",
       "      <td>Apple iPhone 5S (A1457)</td>\n",
       "      <td>204.0</td>\n",
       "      <td>1</td>\n",
       "    </tr>\n",
       "    <tr>\n",
       "      <th>4</th>\n",
       "      <td>3.360101e+10</td>\n",
       "      <td>1.517720e+07</td>\n",
       "      <td>57.0</td>\n",
       "      <td>Apple iPhone Se (A1723)</td>\n",
       "      <td>20197.5</td>\n",
       "      <td>0</td>\n",
       "    </tr>\n",
       "  </tbody>\n",
       "</table>\n",
       "</div>"
      ],
      "text/plain": [
       "   MSISDN/Number  avg_tcp_retransmission_bytes  avg_rtt_ms  \\\n",
       "0   3.360100e+10                  2.100477e+07        46.0   \n",
       "1   3.360100e+10                  2.100477e+07        30.0   \n",
       "2   3.360100e+10                  2.100477e+07        45.0   \n",
       "3   3.360101e+10                  1.066000e+03        69.0   \n",
       "4   3.360101e+10                  1.517720e+07        57.0   \n",
       "\n",
       "                     handset_type  avg_throughput_kbps  cluster  \n",
       "0  Huawei P20 Lite Huawei Nova 3E                 37.0        0  \n",
       "1          Apple iPhone 7 (A1778)                 48.0        0  \n",
       "2                       undefined                 48.0        0  \n",
       "3         Apple iPhone 5S (A1457)                204.0        1  \n",
       "4         Apple iPhone Se (A1723)              20197.5        0  "
      ]
     },
     "execution_count": 7,
     "metadata": {},
     "output_type": "execute_result"
    }
   ],
   "source": [
    "experience_df.head()"
   ]
  },
  {
   "cell_type": "code",
   "execution_count": 8,
   "metadata": {},
   "outputs": [
    {
     "data": {
      "text/plain": [
       "(106469, 7)"
      ]
     },
     "execution_count": 8,
     "metadata": {},
     "output_type": "execute_result"
    }
   ],
   "source": [
    "engagement_df.shape"
   ]
  },
  {
   "cell_type": "code",
   "execution_count": 9,
   "metadata": {},
   "outputs": [
    {
     "data": {
      "text/plain": [
       "(106469, 6)"
      ]
     },
     "execution_count": 9,
     "metadata": {},
     "output_type": "execute_result"
    }
   ],
   "source": [
    "experience_df.shape "
   ]
  },
  {
   "cell_type": "code",
   "execution_count": 10,
   "metadata": {},
   "outputs": [],
   "source": [
    "# Merge dataframes\n",
    "df = pd.merge(engagement_df, experience_df, on='MSISDN/Number')"
   ]
  },
  {
   "cell_type": "code",
   "execution_count": 11,
   "metadata": {},
   "outputs": [
    {
     "data": {
      "text/plain": [
       "(106469, 12)"
      ]
     },
     "execution_count": 11,
     "metadata": {},
     "output_type": "execute_result"
    }
   ],
   "source": [
    "df.shape"
   ]
  },
  {
   "cell_type": "code",
   "execution_count": 12,
   "metadata": {},
   "outputs": [
    {
     "data": {
      "text/html": [
       "<div>\n",
       "<style scoped>\n",
       "    .dataframe tbody tr th:only-of-type {\n",
       "        vertical-align: middle;\n",
       "    }\n",
       "\n",
       "    .dataframe tbody tr th {\n",
       "        vertical-align: top;\n",
       "    }\n",
       "\n",
       "    .dataframe thead th {\n",
       "        text-align: right;\n",
       "    }\n",
       "</style>\n",
       "<table border=\"1\" class=\"dataframe\">\n",
       "  <thead>\n",
       "    <tr style=\"text-align: right;\">\n",
       "      <th></th>\n",
       "      <th>MSISDN/Number</th>\n",
       "      <th>sessions_frequency</th>\n",
       "      <th>total_duration</th>\n",
       "      <th>total_ul_traffic</th>\n",
       "      <th>total_dl_traffic</th>\n",
       "      <th>total_traffic</th>\n",
       "      <th>cluster_x</th>\n",
       "      <th>avg_tcp_retransmission_bytes</th>\n",
       "      <th>avg_rtt_ms</th>\n",
       "      <th>handset_type</th>\n",
       "      <th>avg_throughput_kbps</th>\n",
       "      <th>cluster_y</th>\n",
       "    </tr>\n",
       "  </thead>\n",
       "  <tbody>\n",
       "    <tr>\n",
       "      <th>0</th>\n",
       "      <td>3.360100e+10</td>\n",
       "      <td>1</td>\n",
       "      <td>116720.0</td>\n",
       "      <td>36053108.0</td>\n",
       "      <td>8.426375e+08</td>\n",
       "      <td>8.786906e+08</td>\n",
       "      <td>1</td>\n",
       "      <td>2.100477e+07</td>\n",
       "      <td>46.0</td>\n",
       "      <td>Huawei P20 Lite Huawei Nova 3E</td>\n",
       "      <td>37.0</td>\n",
       "      <td>0</td>\n",
       "    </tr>\n",
       "    <tr>\n",
       "      <th>1</th>\n",
       "      <td>3.360100e+10</td>\n",
       "      <td>1</td>\n",
       "      <td>181230.0</td>\n",
       "      <td>36104459.0</td>\n",
       "      <td>1.207552e+08</td>\n",
       "      <td>1.568596e+08</td>\n",
       "      <td>1</td>\n",
       "      <td>2.100477e+07</td>\n",
       "      <td>30.0</td>\n",
       "      <td>Apple iPhone 7 (A1778)</td>\n",
       "      <td>48.0</td>\n",
       "      <td>0</td>\n",
       "    </tr>\n",
       "    <tr>\n",
       "      <th>2</th>\n",
       "      <td>3.360100e+10</td>\n",
       "      <td>1</td>\n",
       "      <td>134969.0</td>\n",
       "      <td>39306820.0</td>\n",
       "      <td>5.566597e+08</td>\n",
       "      <td>5.959665e+08</td>\n",
       "      <td>1</td>\n",
       "      <td>2.100477e+07</td>\n",
       "      <td>45.0</td>\n",
       "      <td>undefined</td>\n",
       "      <td>48.0</td>\n",
       "      <td>0</td>\n",
       "    </tr>\n",
       "    <tr>\n",
       "      <th>3</th>\n",
       "      <td>3.360101e+10</td>\n",
       "      <td>1</td>\n",
       "      <td>49878.0</td>\n",
       "      <td>20327526.0</td>\n",
       "      <td>4.019932e+08</td>\n",
       "      <td>4.223207e+08</td>\n",
       "      <td>1</td>\n",
       "      <td>1.066000e+03</td>\n",
       "      <td>69.0</td>\n",
       "      <td>Apple iPhone 5S (A1457)</td>\n",
       "      <td>204.0</td>\n",
       "      <td>1</td>\n",
       "    </tr>\n",
       "    <tr>\n",
       "      <th>4</th>\n",
       "      <td>3.360101e+10</td>\n",
       "      <td>2</td>\n",
       "      <td>37104.0</td>\n",
       "      <td>94280527.0</td>\n",
       "      <td>1.363130e+09</td>\n",
       "      <td>1.457411e+09</td>\n",
       "      <td>2</td>\n",
       "      <td>1.517720e+07</td>\n",
       "      <td>57.0</td>\n",
       "      <td>Apple iPhone Se (A1723)</td>\n",
       "      <td>20197.5</td>\n",
       "      <td>0</td>\n",
       "    </tr>\n",
       "  </tbody>\n",
       "</table>\n",
       "</div>"
      ],
      "text/plain": [
       "   MSISDN/Number  sessions_frequency  total_duration  total_ul_traffic  \\\n",
       "0   3.360100e+10                   1        116720.0        36053108.0   \n",
       "1   3.360100e+10                   1        181230.0        36104459.0   \n",
       "2   3.360100e+10                   1        134969.0        39306820.0   \n",
       "3   3.360101e+10                   1         49878.0        20327526.0   \n",
       "4   3.360101e+10                   2         37104.0        94280527.0   \n",
       "\n",
       "   total_dl_traffic  total_traffic  cluster_x  avg_tcp_retransmission_bytes  \\\n",
       "0      8.426375e+08   8.786906e+08          1                  2.100477e+07   \n",
       "1      1.207552e+08   1.568596e+08          1                  2.100477e+07   \n",
       "2      5.566597e+08   5.959665e+08          1                  2.100477e+07   \n",
       "3      4.019932e+08   4.223207e+08          1                  1.066000e+03   \n",
       "4      1.363130e+09   1.457411e+09          2                  1.517720e+07   \n",
       "\n",
       "   avg_rtt_ms                    handset_type  avg_throughput_kbps  cluster_y  \n",
       "0        46.0  Huawei P20 Lite Huawei Nova 3E                 37.0          0  \n",
       "1        30.0          Apple iPhone 7 (A1778)                 48.0          0  \n",
       "2        45.0                       undefined                 48.0          0  \n",
       "3        69.0         Apple iPhone 5S (A1457)                204.0          1  \n",
       "4        57.0         Apple iPhone Se (A1723)              20197.5          0  "
      ]
     },
     "execution_count": 12,
     "metadata": {},
     "output_type": "execute_result"
    }
   ],
   "source": [
    "df.head()"
   ]
  },
  {
   "cell_type": "markdown",
   "metadata": {},
   "source": [
    "### engagement cluster summary"
   ]
  },
  {
   "cell_type": "code",
   "execution_count": 20,
   "metadata": {},
   "outputs": [
    {
     "name": "stdout",
     "output_type": "stream",
     "text": [
      "Engagement Cluster Summary:\n",
      "\n"
     ]
    },
    {
     "data": {
      "text/html": [
       "<div>\n",
       "<style scoped>\n",
       "    .dataframe tbody tr th:only-of-type {\n",
       "        vertical-align: middle;\n",
       "    }\n",
       "\n",
       "    .dataframe tbody tr th {\n",
       "        vertical-align: top;\n",
       "    }\n",
       "\n",
       "    .dataframe thead th {\n",
       "        text-align: right;\n",
       "    }\n",
       "</style>\n",
       "<table border=\"1\" class=\"dataframe\">\n",
       "  <thead>\n",
       "    <tr style=\"text-align: right;\">\n",
       "      <th></th>\n",
       "      <th>total_duration</th>\n",
       "      <th>total_traffic</th>\n",
       "      <th>sessions_frequency</th>\n",
       "    </tr>\n",
       "    <tr>\n",
       "      <th>engagement_cluster</th>\n",
       "      <th></th>\n",
       "      <th></th>\n",
       "      <th></th>\n",
       "    </tr>\n",
       "  </thead>\n",
       "  <tbody>\n",
       "    <tr>\n",
       "      <th>0</th>\n",
       "      <td>107979.903425</td>\n",
       "      <td>3.357609e+08</td>\n",
       "      <td>1.061176</td>\n",
       "    </tr>\n",
       "    <tr>\n",
       "      <th>1</th>\n",
       "      <td>364057.035549</td>\n",
       "      <td>1.850752e+09</td>\n",
       "      <td>3.141772</td>\n",
       "    </tr>\n",
       "    <tr>\n",
       "      <th>2</th>\n",
       "      <td>138413.892451</td>\n",
       "      <td>8.317759e+08</td>\n",
       "      <td>1.394423</td>\n",
       "    </tr>\n",
       "  </tbody>\n",
       "</table>\n",
       "</div>"
      ],
      "text/plain": [
       "                    total_duration  total_traffic  sessions_frequency\n",
       "engagement_cluster                                                   \n",
       "0                    107979.903425   3.357609e+08            1.061176\n",
       "1                    364057.035549   1.850752e+09            3.141772\n",
       "2                    138413.892451   8.317759e+08            1.394423"
      ]
     },
     "metadata": {},
     "output_type": "display_data"
    }
   ],
   "source": [
    "from sklearn.cluster import KMeans\n",
    "\n",
    "# Example: Assuming you have relevant features for clustering\n",
    "features = df[['total_duration', 'total_traffic', 'sessions_frequency']]\n",
    "\n",
    "# Fit KMeans\n",
    "kmeans = KMeans(n_clusters=3)\n",
    "df['engagement_cluster'] = kmeans.fit_predict(features)\n",
    "\n",
    "# Now you can group by engagement_cluster\n",
    "engagement_summary = df.groupby('engagement_cluster')[['total_duration', 'total_traffic', 'sessions_frequency']].mean()\n",
    "print(\"Engagement Cluster Summary:\\n\")\n",
    "display(engagement_summary)"
   ]
  },
  {
   "cell_type": "code",
   "execution_count": 21,
   "metadata": {},
   "outputs": [
    {
     "data": {
      "image/png": "[encoded data removed]",
      "text/plain": [
       "<Figure size 1500x1200 with 3 Axes>"
      ]
     },
     "metadata": {},
     "output_type": "display_data"
    }
   ],
   "source": [
    "\n",
    "# Plotting bar charts\n",
    "plt.figure(figsize=(15, 12))\n",
    "\n",
    "# Total Sessions\n",
    "plt.subplot(3, 1, 1)\n",
    "engagement_summary['sessions_frequency'].plot(kind='bar', color='skyblue')\n",
    "plt.title('Total Sessions by Cluster')\n",
    "plt.xlabel('Cluster')\n",
    "plt.ylabel('Total Sessions')\n",
    "plt.xticks(rotation=0)\n",
    "\n",
    "# Total Duration\n",
    "plt.subplot(3, 1, 2)\n",
    "engagement_summary['total_duration'].plot(kind='bar', color='lightgreen')\n",
    "plt.title('Total Duration by Cluster')\n",
    "plt.xlabel('Cluster')\n",
    "plt.ylabel('Total Duration (seconds)')\n",
    "plt.xticks(rotation=0)\n",
    "\n",
    "# Total Traffic\n",
    "plt.subplot(3, 1, 3)\n",
    "engagement_summary['total_traffic'].plot(kind='bar', color='salmon')\n",
    "plt.title('Total Traffic by Cluster')\n",
    "plt.xlabel('Cluster')\n",
    "plt.ylabel('Total Traffic (Bytes)')\n",
    "plt.xticks(rotation=0)\n",
    "\n",
    "\n",
    "\n",
    "plt.tight_layout()  # Adjust layout to prevent overlap\n",
    "plt.show()\n"
   ]
  },
  {
   "cell_type": "markdown",
   "metadata": {},
   "source": [
    "- From what we see from the summary and graphs we can decide which cluster has the least engaged Cluster.\n",
    "- The least engaged cluster is the cluster which has :\n",
    "    * Low total session \n",
    "    * Low total duration \n",
    "    * Low total traffic \n",
    "- Based on the above metrics comparing the three clusters **Cluster 0** has the least experience cluster"
   ]
  },
  {
   "cell_type": "markdown",
   "metadata": {},
   "source": [
    "- **Experience Summary Cluster** "
   ]
  },
  {
   "cell_type": "code",
   "execution_count": 27,
   "metadata": {},
   "outputs": [
    {
     "name": "stdout",
     "output_type": "stream",
     "text": [
      "Experience Cluster Summary:\n",
      "\n"
     ]
    },
    {
     "data": {
      "text/html": [
       "<div>\n",
       "<style scoped>\n",
       "    .dataframe tbody tr th:only-of-type {\n",
       "        vertical-align: middle;\n",
       "    }\n",
       "\n",
       "    .dataframe tbody tr th {\n",
       "        vertical-align: top;\n",
       "    }\n",
       "\n",
       "    .dataframe thead th {\n",
       "        text-align: right;\n",
       "    }\n",
       "</style>\n",
       "<table border=\"1\" class=\"dataframe\">\n",
       "  <thead>\n",
       "    <tr style=\"text-align: right;\">\n",
       "      <th></th>\n",
       "      <th>avg_tcp_retransmission_bytes</th>\n",
       "      <th>avg_rtt_ms</th>\n",
       "      <th>avg_throughput_kbps</th>\n",
       "    </tr>\n",
       "    <tr>\n",
       "      <th>experience_cluster</th>\n",
       "      <th></th>\n",
       "      <th></th>\n",
       "      <th></th>\n",
       "    </tr>\n",
       "  </thead>\n",
       "  <tbody>\n",
       "    <tr>\n",
       "      <th>0</th>\n",
       "      <td>1.498415e+07</td>\n",
       "      <td>63.898475</td>\n",
       "      <td>10216.913823</td>\n",
       "    </tr>\n",
       "    <tr>\n",
       "      <th>1</th>\n",
       "      <td>1.492869e+07</td>\n",
       "      <td>61.410689</td>\n",
       "      <td>11504.788791</td>\n",
       "    </tr>\n",
       "    <tr>\n",
       "      <th>2</th>\n",
       "      <td>1.405151e+07</td>\n",
       "      <td>61.046050</td>\n",
       "      <td>17852.717617</td>\n",
       "    </tr>\n",
       "  </tbody>\n",
       "</table>\n",
       "</div>"
      ],
      "text/plain": [
       "                    avg_tcp_retransmission_bytes  avg_rtt_ms  \\\n",
       "experience_cluster                                             \n",
       "0                                   1.498415e+07   63.898475   \n",
       "1                                   1.492869e+07   61.410689   \n",
       "2                                   1.405151e+07   61.046050   \n",
       "\n",
       "                    avg_throughput_kbps  \n",
       "experience_cluster                       \n",
       "0                          10216.913823  \n",
       "1                          11504.788791  \n",
       "2                          17852.717617  "
      ]
     },
     "metadata": {},
     "output_type": "display_data"
    }
   ],
   "source": [
    "from sklearn.cluster import KMeans\n",
    "\n",
    "# Example: Assuming you have relevant features for clustering\n",
    "features = df[['total_duration', 'total_traffic', 'sessions_frequency']]\n",
    "\n",
    "# Fit KMeans\n",
    "kmeans = KMeans(n_clusters=3)\n",
    "df['experience_cluster'] = kmeans.fit_predict(features)\n",
    "\n",
    "# Now you can group by experience_cluster\n",
    "experience_summary = df.groupby('experience_cluster')[['avg_tcp_retransmission_bytes', 'avg_rtt_ms', 'avg_throughput_kbps']].mean()\n",
    "print(\"Experience Cluster Summary:\\n\")\n",
    "display(experience_summary)"
   ]
  },
  {
   "cell_type": "markdown",
   "metadata": {},
   "source": [
    "- Experience cluster Graph "
   ]
  },
  {
   "cell_type": "code",
   "execution_count": 28,
   "metadata": {},
   "outputs": [
    {
     "data": {
      "image/png": "[encoded data removed]",
      "text/plain": [
       "<Figure size 1500x800 with 3 Axes>"
      ]
     },
     "metadata": {},
     "output_type": "display_data"
    }
   ],
   "source": [
    "# Plotting bar charts\n",
    "plt.figure(figsize=(15, 8))\n",
    "\n",
    "# Total Sessions\n",
    "plt.subplot(3, 1, 1)\n",
    "experience_summary['avg_tcp_retransmission_bytes'].plot(kind='bar', color='skyblue')\n",
    "plt.title(' avg_tcp_retransmission_bytes by Cluster')\n",
    "plt.xlabel('Cluster')\n",
    "plt.ylabel('Average avg_tcp_retransmission_bytes')\n",
    "plt.xticks(rotation=0)\n",
    "\n",
    "# Total Duration\n",
    "plt.subplot(3, 1, 2)\n",
    "experience_summary['avg_rtt_ms'].plot(kind='bar', color='lightgreen')\n",
    "plt.title(' avg_rtt_ms by Cluster')\n",
    "plt.xlabel('Cluster')\n",
    "plt.ylabel('Average avg_rtt_ms ')\n",
    "plt.xticks(rotation=0)\n",
    "\n",
    "# Total Traffic\n",
    "plt.subplot(3, 1, 3)\n",
    "experience_summary['avg_throughput_kbps'].plot(kind='bar', color='salmon')\n",
    "plt.title(' avg_throughput_kbps by Cluster')\n",
    "plt.xlabel('Cluster')\n",
    "plt.ylabel('Average avg_throughput_kbps ')\n",
    "plt.xticks(rotation=0)\n",
    "\n",
    "\n",
    "\n",
    "plt.tight_layout()  # Adjust layout to prevent overlap\n",
    "plt.show()"
   ]
  },
  {
   "cell_type": "markdown",
   "metadata": {},
   "source": [
    "- From what we see from the summary and graphs we can decide which cluster has the Worst Experience Cluster.\n",
    "- The worst experinece cluster is the cluster which has :\n",
    "    * High Average TCP retransmission \n",
    "    * High average RTT\n",
    "    * Low average throughput \n",
    "- Based on the above metrics comparing the three clusters **Cluster 0** has the worst experience cluster"
   ]
  },
  {
   "cell_type": "code",
   "execution_count": 29,
   "metadata": {},
   "outputs": [],
   "source": [
    "# Define the clusters \n",
    "less_engaged_cluster = df[df['engagement_cluster'] == 2][['total_duration', 'total_traffic', 'sessions_frequency']].mean()\n",
    "worst_experience_cluster = df[df['experience_cluster'] == 1][['avg_tcp_retransmission_bytes', 'avg_rtt_ms', 'avg_throughput_kbps']].mean()"
   ]
  },
  {
   "cell_type": "code",
   "execution_count": 30,
   "metadata": {},
   "outputs": [],
   "source": [
    "# Convert cluster means to DataFrame for distance calculation\n",
    "less_engaged_cluster = less_engaged_cluster.values.reshape(1, -1)\n",
    "worst_experience_cluster = worst_experience_cluster.values.reshape(1, -1)\n",
    "\n",
    "# Calculate engagement scores using pairwise distances\n",
    "df['engagement_score'] = euclidean_distances(df[['total_duration', 'total_traffic','sessions_frequency']], less_engaged_cluster).flatten()\n",
    "\n",
    "# Calculate experience scores using pairwise distances\n",
    "df['experience_score'] = euclidean_distances(df[['avg_tcp_retransmission_bytes', 'avg_rtt_ms', 'avg_throughput_kbps']], worst_experience_cluster).flatten()\n",
    "\n",
    "# Task 2: Calculate Satisfaction Score\n",
    "df['satisfaction_score'] = (df['engagement_score'] + df['experience_score']) / 2"
   ]
  },
  {
   "cell_type": "code",
   "execution_count": 31,
   "metadata": {},
   "outputs": [
    {
     "data": {
      "text/html": [
       "<div>\n",
       "<style scoped>\n",
       "    .dataframe tbody tr th:only-of-type {\n",
       "        vertical-align: middle;\n",
       "    }\n",
       "\n",
       "    .dataframe tbody tr th {\n",
       "        vertical-align: top;\n",
       "    }\n",
       "\n",
       "    .dataframe thead th {\n",
       "        text-align: right;\n",
       "    }\n",
       "</style>\n",
       "<table border=\"1\" class=\"dataframe\">\n",
       "  <thead>\n",
       "    <tr style=\"text-align: right;\">\n",
       "      <th></th>\n",
       "      <th>MSISDN/Number</th>\n",
       "      <th>sessions_frequency</th>\n",
       "      <th>total_duration</th>\n",
       "      <th>total_ul_traffic</th>\n",
       "      <th>total_dl_traffic</th>\n",
       "      <th>total_traffic</th>\n",
       "      <th>cluster_x</th>\n",
       "      <th>avg_tcp_retransmission_bytes</th>\n",
       "      <th>avg_rtt_ms</th>\n",
       "      <th>handset_type</th>\n",
       "      <th>avg_throughput_kbps</th>\n",
       "      <th>cluster_y</th>\n",
       "      <th>engagement_cluster</th>\n",
       "      <th>experience_cluster</th>\n",
       "      <th>engagement_score</th>\n",
       "      <th>experience_score</th>\n",
       "      <th>satisfaction_score</th>\n",
       "    </tr>\n",
       "  </thead>\n",
       "  <tbody>\n",
       "    <tr>\n",
       "      <th>0</th>\n",
       "      <td>3.360100e+10</td>\n",
       "      <td>1</td>\n",
       "      <td>116720.0</td>\n",
       "      <td>36053108.0</td>\n",
       "      <td>8.426375e+08</td>\n",
       "      <td>8.786906e+08</td>\n",
       "      <td>1</td>\n",
       "      <td>2.100477e+07</td>\n",
       "      <td>46.0</td>\n",
       "      <td>Huawei P20 Lite Huawei Nova 3E</td>\n",
       "      <td>37.0</td>\n",
       "      <td>0</td>\n",
       "      <td>2</td>\n",
       "      <td>1</td>\n",
       "      <td>4.691468e+07</td>\n",
       "      <td>6.076097e+06</td>\n",
       "      <td>2.649539e+07</td>\n",
       "    </tr>\n",
       "    <tr>\n",
       "      <th>1</th>\n",
       "      <td>3.360100e+10</td>\n",
       "      <td>1</td>\n",
       "      <td>181230.0</td>\n",
       "      <td>36104459.0</td>\n",
       "      <td>1.207552e+08</td>\n",
       "      <td>1.568596e+08</td>\n",
       "      <td>1</td>\n",
       "      <td>2.100477e+07</td>\n",
       "      <td>30.0</td>\n",
       "      <td>Apple iPhone 7 (A1778)</td>\n",
       "      <td>48.0</td>\n",
       "      <td>0</td>\n",
       "      <td>0</td>\n",
       "      <td>0</td>\n",
       "      <td>6.749163e+08</td>\n",
       "      <td>6.076097e+06</td>\n",
       "      <td>3.404962e+08</td>\n",
       "    </tr>\n",
       "    <tr>\n",
       "      <th>2</th>\n",
       "      <td>3.360100e+10</td>\n",
       "      <td>1</td>\n",
       "      <td>134969.0</td>\n",
       "      <td>39306820.0</td>\n",
       "      <td>5.566597e+08</td>\n",
       "      <td>5.959665e+08</td>\n",
       "      <td>1</td>\n",
       "      <td>2.100477e+07</td>\n",
       "      <td>45.0</td>\n",
       "      <td>undefined</td>\n",
       "      <td>48.0</td>\n",
       "      <td>0</td>\n",
       "      <td>2</td>\n",
       "      <td>1</td>\n",
       "      <td>2.358094e+08</td>\n",
       "      <td>6.076097e+06</td>\n",
       "      <td>1.209428e+08</td>\n",
       "    </tr>\n",
       "    <tr>\n",
       "      <th>3</th>\n",
       "      <td>3.360101e+10</td>\n",
       "      <td>1</td>\n",
       "      <td>49878.0</td>\n",
       "      <td>20327526.0</td>\n",
       "      <td>4.019932e+08</td>\n",
       "      <td>4.223207e+08</td>\n",
       "      <td>1</td>\n",
       "      <td>1.066000e+03</td>\n",
       "      <td>69.0</td>\n",
       "      <td>Apple iPhone 5S (A1457)</td>\n",
       "      <td>204.0</td>\n",
       "      <td>1</td>\n",
       "      <td>0</td>\n",
       "      <td>0</td>\n",
       "      <td>4.094552e+08</td>\n",
       "      <td>1.492763e+07</td>\n",
       "      <td>2.121914e+08</td>\n",
       "    </tr>\n",
       "    <tr>\n",
       "      <th>4</th>\n",
       "      <td>3.360101e+10</td>\n",
       "      <td>2</td>\n",
       "      <td>37104.0</td>\n",
       "      <td>94280527.0</td>\n",
       "      <td>1.363130e+09</td>\n",
       "      <td>1.457411e+09</td>\n",
       "      <td>2</td>\n",
       "      <td>1.517720e+07</td>\n",
       "      <td>57.0</td>\n",
       "      <td>Apple iPhone Se (A1723)</td>\n",
       "      <td>20197.5</td>\n",
       "      <td>0</td>\n",
       "      <td>1</td>\n",
       "      <td>2</td>\n",
       "      <td>6.256351e+08</td>\n",
       "      <td>2.486662e+05</td>\n",
       "      <td>3.129419e+08</td>\n",
       "    </tr>\n",
       "  </tbody>\n",
       "</table>\n",
       "</div>"
      ],
      "text/plain": [
       "   MSISDN/Number  sessions_frequency  total_duration  total_ul_traffic  \\\n",
       "0   3.360100e+10                   1        116720.0        36053108.0   \n",
       "1   3.360100e+10                   1        181230.0        36104459.0   \n",
       "2   3.360100e+10                   1        134969.0        39306820.0   \n",
       "3   3.360101e+10                   1         49878.0        20327526.0   \n",
       "4   3.360101e+10                   2         37104.0        94280527.0   \n",
       "\n",
       "   total_dl_traffic  total_traffic  cluster_x  avg_tcp_retransmission_bytes  \\\n",
       "0      8.426375e+08   8.786906e+08          1                  2.100477e+07   \n",
       "1      1.207552e+08   1.568596e+08          1                  2.100477e+07   \n",
       "2      5.566597e+08   5.959665e+08          1                  2.100477e+07   \n",
       "3      4.019932e+08   4.223207e+08          1                  1.066000e+03   \n",
       "4      1.363130e+09   1.457411e+09          2                  1.517720e+07   \n",
       "\n",
       "   avg_rtt_ms                    handset_type  avg_throughput_kbps  cluster_y  \\\n",
       "0        46.0  Huawei P20 Lite Huawei Nova 3E                 37.0          0   \n",
       "1        30.0          Apple iPhone 7 (A1778)                 48.0          0   \n",
       "2        45.0                       undefined                 48.0          0   \n",
       "3        69.0         Apple iPhone 5S (A1457)                204.0          1   \n",
       "4        57.0         Apple iPhone Se (A1723)              20197.5          0   \n",
       "\n",
       "   engagement_cluster  experience_cluster  engagement_score  experience_score  \\\n",
       "0                   2                   1      4.691468e+07      6.076097e+06   \n",
       "1                   0                   0      6.749163e+08      6.076097e+06   \n",
       "2                   2                   1      2.358094e+08      6.076097e+06   \n",
       "3                   0                   0      4.094552e+08      1.492763e+07   \n",
       "4                   1                   2      6.256351e+08      2.486662e+05   \n",
       "\n",
       "   satisfaction_score  \n",
       "0        2.649539e+07  \n",
       "1        3.404962e+08  \n",
       "2        1.209428e+08  \n",
       "3        2.121914e+08  \n",
       "4        3.129419e+08  "
      ]
     },
     "execution_count": 31,
     "metadata": {},
     "output_type": "execute_result"
    }
   ],
   "source": [
    "df.head()"
   ]
  },
  {
   "cell_type": "code",
   "execution_count": 32,
   "metadata": {},
   "outputs": [
    {
     "name": "stdout",
     "output_type": "stream",
     "text": [
      "\n",
      "Top 10 Satisfied Customers:\n",
      "        MSISDN/Number  satisfaction_score\n",
      "6404    3.361489e+10        4.010886e+09\n",
      "92584   3.376054e+10        3.842181e+09\n",
      "13123   3.362578e+10        3.833966e+09\n",
      "13467   3.362632e+10        3.570736e+09\n",
      "76077   3.367588e+10        3.531760e+09\n",
      "36909   3.365973e+10        3.441876e+09\n",
      "62804   3.366646e+10        3.240064e+09\n",
      "92239   3.376041e+10        3.153114e+09\n",
      "57032   3.366471e+10        3.022603e+09\n",
      "86138   3.369879e+10        2.855686e+09\n"
     ]
    }
   ],
   "source": [
    "top_satisfied_customers = df.nlargest(10, 'satisfaction_score')\n",
    "print(\"\\nTop 10 Satisfied Customers:\\n\", top_satisfied_customers[['MSISDN/Number', 'satisfaction_score']])"
   ]
  },
  {
   "cell_type": "code",
   "execution_count": 33,
   "metadata": {},
   "outputs": [],
   "source": [
    "#  K-means on engagement & experience scores\n",
    "eng_exp_scores = df[['engagement_score', 'experience_score']]\n",
    "kmeans_eng_exp = KMeans(n_clusters=2, init='k-means++')\n",
    "df['eng_exp_cluster'] = kmeans_eng_exp.fit_predict(eng_exp_scores)"
   ]
  },
  {
   "cell_type": "code",
   "execution_count": 34,
   "metadata": {},
   "outputs": [],
   "source": [
    "#  Aggregate average satisfaction & experience scores per cluster\n",
    "avg_scores_per_cluster = df.groupby('eng_exp_cluster').agg(\n",
    "    users=('MSISDN/Number', 'nunique'),\n",
    "    avg_satisfaction=('satisfaction_score', 'mean'),\n",
    "    avg_experience=('experience_score', 'mean')\n",
    ").reset_index()"
   ]
  },
  {
   "cell_type": "code",
   "execution_count": 35,
   "metadata": {},
   "outputs": [
    {
     "data": {
      "text/html": [
       "<div>\n",
       "<style scoped>\n",
       "    .dataframe tbody tr th:only-of-type {\n",
       "        vertical-align: middle;\n",
       "    }\n",
       "\n",
       "    .dataframe tbody tr th {\n",
       "        vertical-align: top;\n",
       "    }\n",
       "\n",
       "    .dataframe thead th {\n",
       "        text-align: right;\n",
       "    }\n",
       "</style>\n",
       "<table border=\"1\" class=\"dataframe\">\n",
       "  <thead>\n",
       "    <tr style=\"text-align: right;\">\n",
       "      <th></th>\n",
       "      <th>eng_exp_cluster</th>\n",
       "      <th>users</th>\n",
       "      <th>avg_satisfaction</th>\n",
       "      <th>avg_experience</th>\n",
       "    </tr>\n",
       "  </thead>\n",
       "  <tbody>\n",
       "    <tr>\n",
       "      <th>0</th>\n",
       "      <td>0</td>\n",
       "      <td>66245</td>\n",
       "      <td>1.023874e+08</td>\n",
       "      <td>8.301499e+06</td>\n",
       "    </tr>\n",
       "    <tr>\n",
       "      <th>1</th>\n",
       "      <td>1</td>\n",
       "      <td>40224</td>\n",
       "      <td>3.513873e+08</td>\n",
       "      <td>8.271385e+06</td>\n",
       "    </tr>\n",
       "  </tbody>\n",
       "</table>\n",
       "</div>"
      ],
      "text/plain": [
       "   eng_exp_cluster  users  avg_satisfaction  avg_experience\n",
       "0                0  66245      1.023874e+08    8.301499e+06\n",
       "1                1  40224      3.513873e+08    8.271385e+06"
      ]
     },
     "execution_count": 35,
     "metadata": {},
     "output_type": "execute_result"
    }
   ],
   "source": [
    "avg_scores_per_cluster.head()"
   ]
  },
  {
   "cell_type": "code",
   "execution_count": 36,
   "metadata": {},
   "outputs": [
    {
     "data": {
      "image/png": "[encoded data removed]",
      "text/plain": [
       "<Figure size 1500x1200 with 3 Axes>"
      ]
     },
     "metadata": {},
     "output_type": "display_data"
    }
   ],
   "source": [
    "# Plotting bar charts\n",
    "plt.figure(figsize=(15, 12))\n",
    "\n",
    "# Total Sessions\n",
    "plt.subplot(3, 1, 1)\n",
    "avg_scores_per_cluster['avg_satisfaction'].plot(kind='bar', color='skyblue')\n",
    "plt.title('avg_satisfaction by Cluster')\n",
    "plt.xlabel('Cluster')\n",
    "plt.ylabel('avg_satisfaction')\n",
    "plt.xticks(rotation=0)\n",
    "\n",
    "# Total Duration\n",
    "plt.subplot(3, 1, 2)\n",
    "avg_scores_per_cluster['avg_experience'].plot(kind='bar', color='lightgreen')\n",
    "plt.title('avg_experience by Cluster')\n",
    "plt.xlabel('Cluster')\n",
    "plt.ylabel('avg_experience')\n",
    "plt.xticks(rotation=0)\n",
    "\n",
    "# Total Traffic\n",
    "plt.subplot(3, 1, 3)\n",
    "avg_scores_per_cluster['users'].plot(kind='bar', color='salmon')\n",
    "plt.title('Total users by Cluster')\n",
    "plt.xlabel('Cluster')\n",
    "plt.ylabel('Total users ')\n",
    "plt.xticks(rotation=0)\n",
    "\n",
    "\n",
    "\n",
    "plt.tight_layout()  # Adjust layout to prevent overlap\n",
    "plt.show()"
   ]
  },
  {
   "cell_type": "code",
   "execution_count": null,
   "metadata": {},
   "outputs": [],
   "source": []
  }
 ],
 "metadata": {
  "kernelspec": {
   "display_name": "base",
   "language": "python",
   "name": "python3"
  },
  "language_info": {
   "codemirror_mode": {
    "name": "ipython",
    "version": 3
   },
   "file_extension": ".py",
   "mimetype": "text/x-python",
   "name": "python",
   "nbconvert_exporter": "python",
   "pygments_lexer": "ipython3",
   "version": "3.12.7"
  }
 },
 "nbformat": 4,
 "nbformat_minor": 2
}
